{
 "cells": [
  {
   "cell_type": "markdown",
   "id": "b1ade5e2-dbf3-4735-8171-75dd137d081e",
   "metadata": {
    "tags": []
   },
   "source": [
    "# INTRODUCTION"
   ]
  },
  {
   "cell_type": "markdown",
   "id": "09621bd8-7f37-4348-9381-8d2f964c9595",
   "metadata": {},
   "source": [
    "1) Say \"Hello, World!\" With Python"
   ]
  },
  {
   "cell_type": "code",
   "execution_count": null,
   "id": "53eb1691-61cd-4d9f-80f2-4e59f51e7284",
   "metadata": {},
   "outputs": [],
   "source": [
    "print(\"Hello, World!\")"
   ]
  },
  {
   "cell_type": "markdown",
   "id": "f1845665-92be-4586-b3e4-b07319baa6b5",
   "metadata": {},
   "source": [
    "2) Python If-Else"
   ]
  },
  {
   "cell_type": "code",
   "execution_count": null,
   "id": "fc24b2d0-928c-4206-adcd-b9d31fa2e76d",
   "metadata": {},
   "outputs": [],
   "source": [
    "n = int(input())\n",
    "\n",
    "if n % 2 != 0:\n",
    "    print(\"Weird\")\n",
    "elif n >= 2 and n <= 5:\n",
    "    print(\"Not Weird\")\n",
    "elif n >= 6 and n <= 20:\n",
    "    print(\"Weird\")\n",
    "else:\n",
    "    print(\"Not Weird\")"
   ]
  },
  {
   "cell_type": "markdown",
   "id": "5eed86fd-fcfe-42d4-9994-b622a5d4d222",
   "metadata": {},
   "source": [
    "3) Arithmetic Operators"
   ]
  },
  {
   "cell_type": "code",
   "execution_count": null,
   "id": "56f4f697-c607-42b8-b611-494d6470dd47",
   "metadata": {},
   "outputs": [],
   "source": [
    "a = int(input())\n",
    "b = int(input())\n",
    "\n",
    "print(a+b)\n",
    "print(a-b)\n",
    "print(a*b)"
   ]
  },
  {
   "cell_type": "markdown",
   "id": "d9fe0d3e-2680-46f4-bb59-94bab019bb03",
   "metadata": {},
   "source": [
    "4) Python: Division"
   ]
  },
  {
   "cell_type": "code",
   "execution_count": null,
   "id": "82c19c38-cf26-4590-b6ef-4398966094ff",
   "metadata": {},
   "outputs": [],
   "source": [
    "a = int(input())\n",
    "b = int(input())\n",
    "\n",
    "print(a//b)\n",
    "print(a/b)"
   ]
  },
  {
   "cell_type": "markdown",
   "id": "e468e6d2-9c0f-404d-b531-191e8e7d02fd",
   "metadata": {},
   "source": [
    "5) Loops"
   ]
  },
  {
   "cell_type": "code",
   "execution_count": null,
   "id": "0393014f-cbd3-42f1-bc82-cae14dcb95d8",
   "metadata": {},
   "outputs": [],
   "source": [
    "n = int(input())\n",
    "\n",
    "for i in range(0,n):\n",
    "    print(i**2)"
   ]
  },
  {
   "cell_type": "markdown",
   "id": "97428ede-8e3a-4524-be60-397e10bf5632",
   "metadata": {},
   "source": [
    "6) Write a function"
   ]
  },
  {
   "cell_type": "code",
   "execution_count": null,
   "id": "ce547b06-913e-4d38-a0c4-6e1645b0afe2",
   "metadata": {},
   "outputs": [],
   "source": [
    "def is_leap(year):\n",
    "    leap = False\n",
    "    if year%4==0:\n",
    "        leap=True\n",
    "        if year%100==0:\n",
    "            leap=False\n",
    "            if year%400==0:\n",
    "                leap=True\n",
    "    return leap"
   ]
  },
  {
   "cell_type": "markdown",
   "id": "eac29040-e488-4e51-8076-62ea16087afc",
   "metadata": {},
   "source": [
    "7) Print function"
   ]
  },
  {
   "cell_type": "code",
   "execution_count": null,
   "id": "829f04f2-33fb-4d23-9ac3-58eaed9f6278",
   "metadata": {},
   "outputs": [],
   "source": [
    "n = int(input())\n",
    "\n",
    "print(*range(1,n+1), sep=\"\")"
   ]
  },
  {
   "cell_type": "markdown",
   "id": "613ef2f4-ab7e-468d-a2b1-1cb9a7089fc3",
   "metadata": {},
   "source": [
    "# DATA TYPES"
   ]
  },
  {
   "cell_type": "markdown",
   "id": "e0422c09-5a5c-4f38-99ed-c3447be092ac",
   "metadata": {},
   "source": [
    "1) List Comprehension"
   ]
  },
  {
   "cell_type": "code",
   "execution_count": null,
   "id": "4ca9d502-6cb1-42f2-a072-880edb076585",
   "metadata": {},
   "outputs": [],
   "source": [
    "x = int(input())\n",
    "y = int(input())\n",
    "z = int(input())\n",
    "n = int(input())\n",
    "\n",
    "lista = [[xx, yy, zz] for xx in range(x+1) for yy in range(y+1) for zz in range(z+1) if xx + yy + zz != n]\n",
    "\n",
    "print(lista)"
   ]
  },
  {
   "cell_type": "markdown",
   "id": "8020da9e-264e-4734-9243-b0b4d984dddd",
   "metadata": {},
   "source": [
    "2) Find the Runner-Up Score!"
   ]
  },
  {
   "cell_type": "code",
   "execution_count": null,
   "id": "925df8ae-fddf-439e-9038-331a326c0165",
   "metadata": {},
   "outputs": [],
   "source": [
    "n=int(raw_input())\n",
    "\n",
    "lista=map(int, raw_input().split())    \n",
    "\n",
    "print sorted(list(set(lista)))[-2]"
   ]
  },
  {
   "cell_type": "markdown",
   "id": "5697df81-952d-4a70-8d32-78c4e9e9c288",
   "metadata": {},
   "source": [
    "3) Nested Lists"
   ]
  },
  {
   "cell_type": "code",
   "execution_count": null,
   "id": "c35a935a-72a6-4a13-8ac2-6bd5cd55ae52",
   "metadata": {},
   "outputs": [],
   "source": [
    "scores = []\n",
    "records = []\n",
    "names = []\n",
    "\n",
    "for a in range(int(input())):\n",
    "        name = input()\n",
    "        score = float(input())\n",
    "        scores.append(score)\n",
    "        couples = [name, score]\n",
    "        records.append(couples)\n",
    "scores = list(set(scores))\n",
    "scores.sort()\n",
    "value = scores[1]\n",
    "for couple in records:\n",
    "        if couple[1] == value:\n",
    "                names.append(couple[0])\n",
    "names.sort()\n",
    "\n",
    "for i in names:\n",
    "        print(i)"
   ]
  },
  {
   "cell_type": "markdown",
   "id": "7fbc3446-b121-43c3-a448-c8e45eb59bfe",
   "metadata": {},
   "source": [
    "4) Finding the percentage"
   ]
  },
  {
   "cell_type": "code",
   "execution_count": null,
   "id": "01c600ce-accf-4c78-bc5c-b9a83e932bf2",
   "metadata": {},
   "outputs": [],
   "source": [
    "n = int(input())\n",
    "student_marks = {}\n",
    "\n",
    "for _ in range(n):\n",
    "    name, *line = input().split()\n",
    "    scores = list(map(float, line))\n",
    "    student_marks[name] = scores\n",
    "query_name = input()\n",
    "media = sum(student_marks[query_name]) / len(student_marks[query_name])\n",
    "\n",
    "print(\"{:.2f}\".format(media))"
   ]
  },
  {
   "cell_type": "markdown",
   "id": "708751c0-341d-4c4d-8732-5536df2c06a2",
   "metadata": {},
   "source": [
    "5) Lists"
   ]
  },
  {
   "cell_type": "code",
   "execution_count": null,
   "id": "d6a16006-f014-4cb4-867f-1b6306210a7f",
   "metadata": {},
   "outputs": [],
   "source": [
    "n = int(input())\n",
    "list = []\n",
    "\n",
    "for i in range(n):\n",
    "    operazione = input()\n",
    "    op_divisa = operazione.split(\" \")\n",
    "    if op_divisa[0] == \"insert\":\n",
    "        posizione = int(op_divisa[1])\n",
    "        valore = int(op_divisa[2])\n",
    "        list.insert(posizione, valore)\n",
    "    if op_divisa[0] == \"print\":\n",
    "        print(list)\n",
    "    if op_divisa[0] == \"remove\":\n",
    "        valore = int(op_divisa[1])\n",
    "        list.remove(valore)\n",
    "    if op_divisa[0] == \"append\":\n",
    "        valore = int(op_divisa[1])\n",
    "        list.append(valore)\n",
    "    if op_divisa[0] == \"sort\":\n",
    "        list.sort()\n",
    "    if op_divisa[0] == \"pop\":\n",
    "        list.pop()\n",
    "    if op_divisa[0] == \"reverse\":\n",
    "        list.reverse()"
   ]
  },
  {
   "cell_type": "markdown",
   "id": "8668184b-df1e-48ee-99ea-688d1718b453",
   "metadata": {},
   "source": [
    "6) Tuples"
   ]
  },
  {
   "cell_type": "code",
   "execution_count": null,
   "id": "41153bb3-d09f-41e2-bb6a-851575d16137",
   "metadata": {},
   "outputs": [],
   "source": [
    "n = int(input())\n",
    "\n",
    "integer_list = tuple(map(int, input().split()))\n",
    "\n",
    "print(hash(integer_list))"
   ]
  },
  {
   "cell_type": "markdown",
   "id": "5f50a2d5-33dc-412d-8dba-dd7dc5d2d99b",
   "metadata": {},
   "source": [
    "# STRINGS"
   ]
  },
  {
   "cell_type": "markdown",
   "id": "877b7f4c-5ce6-450b-82d1-adf8d1c635c7",
   "metadata": {},
   "source": [
    "1) sWAP cASE"
   ]
  },
  {
   "cell_type": "code",
   "execution_count": null,
   "id": "7658a100-f972-4cf7-9543-43c23bca342b",
   "metadata": {},
   "outputs": [],
   "source": [
    "def swap_case(s):\n",
    "    swapped = s.swapcase()\n",
    "    return swapped"
   ]
  },
  {
   "cell_type": "markdown",
   "id": "fe06e49f-319c-49be-ad0f-84fd2ba19362",
   "metadata": {},
   "source": [
    "2) String Split and Join"
   ]
  },
  {
   "cell_type": "code",
   "execution_count": null,
   "id": "6d351d05-6900-4b5a-bf4e-014696b09ef3",
   "metadata": {},
   "outputs": [],
   "source": [
    "def split_and_join(line):\n",
    "    line = line.split(\" \")\n",
    "    line = \"-\".join(line)\n",
    "    return line"
   ]
  },
  {
   "cell_type": "markdown",
   "id": "cfbb4df2-77a0-4b70-8872-4bd9ad24721c",
   "metadata": {},
   "source": [
    "3) What's Your Name?"
   ]
  },
  {
   "cell_type": "code",
   "execution_count": null,
   "id": "34a98140-e3ec-44a5-8b4d-40f5c118cda5",
   "metadata": {},
   "outputs": [],
   "source": [
    "def print_full_name(first, last):\n",
    "    print(f\"Hello {first} {last}! You just delved into python.\")"
   ]
  },
  {
   "cell_type": "markdown",
   "id": "a5b828c3-f5e2-4eda-833b-c60a875c2d10",
   "metadata": {},
   "source": [
    "4) Mutations"
   ]
  },
  {
   "cell_type": "code",
   "execution_count": null,
   "id": "f237d16c-5216-4e22-84f6-91d63b29fb3e",
   "metadata": {},
   "outputs": [],
   "source": [
    "def mutate_string(string, position, character):\n",
    "    string2 = string[:position] + character + string[position+1:]\n",
    "    return string2"
   ]
  },
  {
   "cell_type": "markdown",
   "id": "ab8a437b-238e-46b9-8633-9ac2d10897ad",
   "metadata": {},
   "source": [
    "5) Find a string"
   ]
  },
  {
   "cell_type": "code",
   "execution_count": null,
   "id": "ef473824-dfc5-46c6-990f-4eca656be073",
   "metadata": {},
   "outputs": [],
   "source": [
    "def count_substring(string, sub_string):\n",
    "    count = 0\n",
    "    for i in range(len(string)):\n",
    "        if string[i:].startswith(sub_string):\n",
    "            count += 1\n",
    "    return count"
   ]
  },
  {
   "cell_type": "markdown",
   "id": "d46a3147-1d7a-47c8-abc4-9fc6ac862070",
   "metadata": {},
   "source": [
    "6) String Validators"
   ]
  },
  {
   "cell_type": "code",
   "execution_count": null,
   "id": "5a8dbd53-9e69-42a2-8684-1f38b4d28376",
   "metadata": {},
   "outputs": [],
   "source": [
    "s = input()\n",
    "\n",
    "is_num = False\n",
    "for char in s:\n",
    "    if char.isalnum():\n",
    "        is_num = True\n",
    "        break\n",
    "print(is_num)\n",
    "\n",
    "is_alpha = False\n",
    "for char in s:\n",
    "    if char.isalpha():\n",
    "        is_alpha = True\n",
    "        break\n",
    "print(is_alpha)\n",
    "\n",
    "is_digit = False\n",
    "for char in s:\n",
    "    if char.isdigit():\n",
    "        is_digit = True\n",
    "        break\n",
    "print(is_digit)\n",
    "\n",
    "is_lower = False\n",
    "for char in s:\n",
    "    if char.islower():\n",
    "        is_lower = True\n",
    "        break\n",
    "print(is_lower)\n",
    "\n",
    "is_upper = False\n",
    "for char in s:\n",
    "    if char.isupper():\n",
    "        is_upper = True\n",
    "        break\n",
    "print(is_upper)"
   ]
  },
  {
   "cell_type": "markdown",
   "id": "f26e156e-43f7-4c78-a650-81b6236258aa",
   "metadata": {},
   "source": [
    "7) Text Alignment"
   ]
  },
  {
   "cell_type": "code",
   "execution_count": null,
   "id": "3bc32774-92e6-4b03-a125-d6ab3396dc80",
   "metadata": {},
   "outputs": [],
   "source": [
    "#Replace all ______ with rjust, ljust or center. \n",
    "\n",
    "thickness = int(input())\n",
    "c = 'H'\n",
    "\n",
    "#Top Cone\n",
    "for i in range(thickness):\n",
    "    print((c*i).rjust(thickness-1)+c+(c*i).ljust(thickness-1))\n",
    "\n",
    "#Top Pillars\n",
    "for i in range(thickness+1):\n",
    "    print((c*thickness).center(thickness*2)+(c*thickness).center(thickness*6))\n",
    "\n",
    "#Middle Belt\n",
    "for i in range((thickness+1)//2):\n",
    "    print((c*thickness*5).center(thickness*6))    \n",
    "\n",
    "#Bottom Pillars\n",
    "for i in range(thickness+1):\n",
    "    print((c*thickness).center(thickness*2)+(c*thickness).center(thickness*6))    \n",
    "\n",
    "#Bottom Cone\n",
    "for i in range(thickness):\n",
    "    print(((c*(thickness-i-1)).rjust(thickness)+c+(c*(thickness-i-1)).ljust(thickness)).rjust(thickness*6))"
   ]
  },
  {
   "cell_type": "markdown",
   "id": "52dab5b3-070e-4428-ae83-433585926cf3",
   "metadata": {},
   "source": [
    "8) Text Wrap"
   ]
  },
  {
   "cell_type": "code",
   "execution_count": null,
   "id": "561e97f2-39a1-4f7d-86a8-a7460e05cb21",
   "metadata": {},
   "outputs": [],
   "source": [
    "def wrap(string, max_width):\n",
    "    stringa = textwrap.fill(string, max_width)\n",
    "    return stringa"
   ]
  },
  {
   "cell_type": "markdown",
   "id": "7ac996b6-8be2-4e52-b44f-23cdad11811d",
   "metadata": {},
   "source": [
    "9) Designer Door Mat"
   ]
  },
  {
   "cell_type": "code",
   "execution_count": null,
   "id": "6a6a750e-dda2-4999-811a-cce746eab0f6",
   "metadata": {},
   "outputs": [],
   "source": [
    "size = list(map(int, input().split()))\n",
    "\n",
    "for i in range(0, size[0]-1):\n",
    "    if(i % 2 == 0):\n",
    "        print(('.|.'*(i+1)).center(size[1], \"-\"))\n",
    "print(\"WELCOME\".center(size[1], \"-\"))\n",
    "for i in range(0, size[0]-1):\n",
    "    if(i % 2 == 0):\n",
    "        print(('.|.'*(size[0]-2-i)).center(size[1], \"-\"))"
   ]
  },
  {
   "cell_type": "markdown",
   "id": "2c07ef90-a562-4c7e-a794-a0e028c9dd31",
   "metadata": {},
   "source": [
    "10) String Formatting"
   ]
  },
  {
   "cell_type": "code",
   "execution_count": null,
   "id": "ea79dc76-0d65-45f3-95f2-f89ab29ea85b",
   "metadata": {},
   "outputs": [],
   "source": [
    "def print_formatted(number):\n",
    "    space = len(bin(number)) - 2\n",
    "    for i in range(number):\n",
    "        dec = str(i + 1)\n",
    "        octal = str(oct(i + 1))\n",
    "        hexa = str(hex(i + 1))\n",
    "        bina = str(bin(i + 1))\n",
    "        print(dec.rjust(space), octal[2:].rjust(space), hexa[2:].upper().rjust(space), bina[2:].rjust(space))"
   ]
  },
  {
   "cell_type": "markdown",
   "id": "aada44b6-0cc0-4a30-8d05-30c2b37fc2e0",
   "metadata": {},
   "source": [
    "11) Alphabet Rangoli"
   ]
  },
  {
   "cell_type": "code",
   "execution_count": null,
   "id": "49e43bee-79bf-4654-93f8-e442f67da037",
   "metadata": {},
   "outputs": [],
   "source": [
    "def print_rangoli(size):\n",
    "    if size == 1:\n",
    "        print(\"a\")\n",
    "    else:\n",
    "        letters = \"abcdefghijklmnopqrstuvwxyz\"\n",
    "        for i in range(1, size):\n",
    "            print((\"-\".join(letters[size-1:size-i-1:-1]) + \"-\" + \"-\".join(letters[size-i+1:size])).center(size*2+(size-1)*2-1, \"-\"))\n",
    "        print(\"-\".join(letters[size-1:0:-1])+\"-\"+\"-\".join(letters[0:size:]))\n",
    "        for i in range(1, size):\n",
    "            print((\"-\".join(letters[size-1:i-1:-1]) + \"-\" + \"-\".join(letters[i+1:size])).center(size*2+(size-1)*2-1, \"-\"))"
   ]
  },
  {
   "cell_type": "markdown",
   "id": "f29a9abb-6c9b-408c-a667-a2de1e5faebf",
   "metadata": {},
   "source": [
    "12) Capitalize!"
   ]
  },
  {
   "cell_type": "code",
   "execution_count": null,
   "id": "1931773f-3b66-4ce2-baea-5c73bfd72713",
   "metadata": {},
   "outputs": [],
   "source": [
    "def solve(s):\n",
    "    return \" \".join(word.capitalize() for word in s.split(' '))"
   ]
  },
  {
   "cell_type": "markdown",
   "id": "a63c4c3b-d8be-439e-b06a-155a678715a7",
   "metadata": {},
   "source": [
    "13) The Minion Game"
   ]
  },
  {
   "cell_type": "code",
   "execution_count": null,
   "id": "213a0ccd-7a77-4d56-bb09-31ddf20bf0c4",
   "metadata": {},
   "outputs": [],
   "source": [
    "def minion_game(string):\n",
    "    vowels = \"AEIOU\"\n",
    "    score_s = 0\n",
    "    score_k = 0\n",
    "    position = 0\n",
    "    for i in string:\n",
    "        if i in vowels:\n",
    "            score_k += len(string) - position\n",
    "        else:\n",
    "            score_s += len(string) - position\n",
    "        position += 1\n",
    "    if score_k > score_s:\n",
    "        print(f\"Kevin {score_k}\")\n",
    "    elif score_s > score_k:\n",
    "        print(f\"Stuart {score_s}\")\n",
    "    else:\n",
    "        print(\"Draw\")"
   ]
  },
  {
   "cell_type": "markdown",
   "id": "18af922d-03b4-44fd-b6ef-9ff80bb6824c",
   "metadata": {},
   "source": [
    "14) Merge the Tools!"
   ]
  },
  {
   "cell_type": "code",
   "execution_count": null,
   "id": "beecd5d0-3143-4056-a24e-705495bf75a6",
   "metadata": {},
   "outputs": [],
   "source": [
    "def merge_the_tools(string, k):\n",
    "    letters = list(string)\n",
    "    n = int(len(string)/k)\n",
    "    splitted_list = [letters[x:x+k] for x in range(0, len(letters), k)]\n",
    "    for i in range(n):\n",
    "        final_list = list(dict.fromkeys(splitted_list[i]))\n",
    "        print(\"\".join(final_list))"
   ]
  },
  {
   "cell_type": "markdown",
   "id": "00d7a17f-83d0-49ae-ab0c-78b489aceb7a",
   "metadata": {},
   "source": [
    "# SETS"
   ]
  },
  {
   "cell_type": "markdown",
   "id": "fcd40e91-0300-4d6c-9b09-ca8388a0d30a",
   "metadata": {},
   "source": [
    "1) Introduction to Sets"
   ]
  },
  {
   "cell_type": "code",
   "execution_count": null,
   "id": "1e8cf7f9-976a-48ad-8d4a-9cdf12a67d1f",
   "metadata": {},
   "outputs": [],
   "source": [
    "def average(array):\n",
    "    new_array = set(array)\n",
    "    mean = sum(new_array)/len(new_array)\n",
    "    return mean"
   ]
  },
  {
   "cell_type": "markdown",
   "id": "68178fff-e4ac-4149-99d3-755e527ffd82",
   "metadata": {},
   "source": [
    "2) No Idea!"
   ]
  },
  {
   "cell_type": "code",
   "execution_count": null,
   "id": "eec6ddd0-d0b9-427e-8977-d06a1ae7a0f2",
   "metadata": {},
   "outputs": [],
   "source": [
    "value = input().split()\n",
    "n = int(value[0])\n",
    "m = int(value[1])\n",
    "\n",
    "numbers = list(map(int, input().split()))\n",
    "\n",
    "A = set(map(int, input().split()))\n",
    "B = set(map(int, input().split()))\n",
    "\n",
    "happiness = 0\n",
    "for number in numbers:\n",
    "    if number in A:\n",
    "        happiness += 1\n",
    "    if number in B:\n",
    "        happiness -= 1\n",
    "print(happiness)"
   ]
  },
  {
   "cell_type": "markdown",
   "id": "fcb15574-3a24-4148-b458-8fb2001f6d40",
   "metadata": {},
   "source": [
    "3) Symmteric Difference"
   ]
  },
  {
   "cell_type": "code",
   "execution_count": null,
   "id": "508c8da0-9fd6-4e60-bd6d-36b38a69b173",
   "metadata": {},
   "outputs": [],
   "source": [
    "M = int(input())\n",
    "a = input()\n",
    "N = int(input())\n",
    "b = input()\n",
    "\n",
    "a = set(a.split())\n",
    "b = set(b.split())\n",
    "\n",
    "output = list(map(int, a.symmetric_difference(b)))\n",
    "output.sort()\n",
    "\n",
    "for i in range(0, len(output)):\n",
    "    print(output[i])"
   ]
  },
  {
   "cell_type": "markdown",
   "id": "4696f7e2-68ad-4102-8f8a-b511599d573e",
   "metadata": {},
   "source": [
    "4) Set .add()"
   ]
  },
  {
   "cell_type": "code",
   "execution_count": null,
   "id": "81f2d8a1-3327-430d-984d-f520bda57e54",
   "metadata": {},
   "outputs": [],
   "source": [
    "n = int(input())\n",
    "s = set()\n",
    "\n",
    "for i in range(n):\n",
    "    s.add(input())\n",
    "\n",
    "print(len(s))"
   ]
  },
  {
   "cell_type": "markdown",
   "id": "ec1a04b9-2f32-431d-b745-b317d6f7317c",
   "metadata": {},
   "source": [
    "5) Set .discard(), .remove() & .pop()"
   ]
  },
  {
   "cell_type": "code",
   "execution_count": null,
   "id": "dde4b64d-920a-427e-83ad-53b16fd6f074",
   "metadata": {},
   "outputs": [],
   "source": [
    "n = int(input())\n",
    "numbers = set(map(int, input().split()))\n",
    "operations = int(input())\n",
    "\n",
    "for i in range(operations):\n",
    "    operation = list(input().split())\n",
    "    if operation[0] == \"pop\":\n",
    "        numbers.pop()\n",
    "    if operation[0] == \"remove\":\n",
    "        numbers.remove(int(operation[1]))\n",
    "    if operation[0] == \"discard\":\n",
    "        numbers.discard(int(operation[1]))\n",
    "\n",
    "print(sum(numbers))"
   ]
  },
  {
   "cell_type": "markdown",
   "id": "f18dbded-83f2-4bca-8e3f-8f5f22d50ead",
   "metadata": {},
   "source": [
    "6) Set .union() Operation"
   ]
  },
  {
   "cell_type": "code",
   "execution_count": null,
   "id": "f87e3bff-f481-484a-a8e2-09fff23111f4",
   "metadata": {},
   "outputs": [],
   "source": [
    "n = int(input())\n",
    "group_A = set(input().split())\n",
    "m = int(input())\n",
    "group_B = set(input().split())\n",
    "\n",
    "print(len(group_A.union(group_B)))"
   ]
  },
  {
   "cell_type": "markdown",
   "id": "91092093-fe8c-4929-8ca1-cfcd9df734b3",
   "metadata": {},
   "source": [
    "7) Set .intersection() Operation"
   ]
  },
  {
   "cell_type": "code",
   "execution_count": null,
   "id": "181b7219-d4e6-4b63-b1eb-0cfd7f6021bd",
   "metadata": {},
   "outputs": [],
   "source": [
    "n = int(input())\n",
    "group_A = set(input().split())\n",
    "m = int(input())\n",
    "group_B = set(input().split())\n",
    "\n",
    "print(len(group_A.intersection(group_B)))"
   ]
  },
  {
   "cell_type": "markdown",
   "id": "d940f5e9-32ed-4f9f-8494-12952a2cc4c2",
   "metadata": {},
   "source": [
    "8) Set .difference() Operation"
   ]
  },
  {
   "cell_type": "code",
   "execution_count": null,
   "id": "0cdadcff-1e4e-44fd-beb3-69d7c96b6b91",
   "metadata": {},
   "outputs": [],
   "source": [
    "n = int(input())\n",
    "group_A = set(input().split())\n",
    "m = int(input())\n",
    "group_B = set(input().split())\n",
    "\n",
    "print(len(group_A.difference(group_B)))"
   ]
  },
  {
   "cell_type": "markdown",
   "id": "d7ba6f71-d321-484b-912a-15d4bec58db6",
   "metadata": {},
   "source": [
    "9) Set .symmetric_difference() Operation"
   ]
  },
  {
   "cell_type": "code",
   "execution_count": null,
   "id": "2cb90fad-c724-49ad-b8d2-0201f5aeac6a",
   "metadata": {},
   "outputs": [],
   "source": [
    "n = int(input())\n",
    "group_A = set(input().split())\n",
    "m = int(input())\n",
    "group_B = set(input().split())\n",
    "\n",
    "print(len(group_A.symmetric_difference(group_B)))"
   ]
  },
  {
   "cell_type": "markdown",
   "id": "abcdfcea-2b95-4a92-825b-ebd569c3eb04",
   "metadata": {},
   "source": [
    "10) Set Mutations"
   ]
  },
  {
   "cell_type": "code",
   "execution_count": null,
   "id": "3fb6a96e-0d2e-47b1-b44c-dd049e2845a2",
   "metadata": {},
   "outputs": [],
   "source": [
    "n = int(input())\n",
    "group_A = set(map(int, input().split()))\n",
    "n_sets = int(input())\n",
    "\n",
    "for i in range(n_sets):\n",
    "    operation = list(input().split())\n",
    "    group_B = set(map(int, input().split()))\n",
    "    if operation[0] == \"update\":\n",
    "        group_A.update(group_B)\n",
    "    if operation[0] == \"intersection_update\":\n",
    "        group_A.intersection_update(group_B)\n",
    "    if operation[0] == \"difference_update\":\n",
    "        group_A.difference_update(group_B)\n",
    "    if operation[0] == \"symmetric_difference_update\":\n",
    "        group_A.symmetric_difference_update(group_B)\n",
    "\n",
    "print(sum(group_A))"
   ]
  },
  {
   "cell_type": "markdown",
   "id": "ac78b176-f3b4-484d-8fdb-04c941f5e470",
   "metadata": {},
   "source": [
    "11) The Captain's Room"
   ]
  },
  {
   "cell_type": "code",
   "execution_count": null,
   "id": "057f43e2-b26c-4982-adde-9e3c38cb809f",
   "metadata": {},
   "outputs": [],
   "source": [
    "k = int(input())\n",
    "num = list(map(int,input().split()))\n",
    "num_set = set(num)\n",
    "for i in num_set:\n",
    "    num.remove(i)\n",
    "num_set_2 = set(num)\n",
    "print (list(num_set.difference(num_set_2))[0])"
   ]
  },
  {
   "cell_type": "markdown",
   "id": "dc2386db-2100-4eb6-a405-6c8c115db340",
   "metadata": {},
   "source": [
    "12) Check Subset"
   ]
  },
  {
   "cell_type": "code",
   "execution_count": null,
   "id": "17cb56e5-de64-4da5-b8fa-4c8b814b2a46",
   "metadata": {},
   "outputs": [],
   "source": [
    "n = int(input())\n",
    "for i in range(n):\n",
    "    n_A = int(input())\n",
    "    A = set(map(int, input().split()))\n",
    "    n_B = int(input())\n",
    "    B = set(map(int, input().split()))\n",
    "    print(A.issubset(B))"
   ]
  },
  {
   "cell_type": "markdown",
   "id": "4f157d50-173d-4825-a2be-a9c8d2338c76",
   "metadata": {},
   "source": [
    "13) Check Strict Superset"
   ]
  },
  {
   "cell_type": "code",
   "execution_count": null,
   "id": "abd11208-8111-4d54-a1bb-8d17dfd885e6",
   "metadata": {},
   "outputs": [],
   "source": [
    "A = set(map(int, input().split()))\n",
    "n = int(input())\n",
    "test = True\n",
    "for i in range(n):\n",
    "    B = set(map(int, input().split()))\n",
    "    if A.issuperset(B) == False:\n",
    "        test = False\n",
    "        break\n",
    "print(test)"
   ]
  },
  {
   "cell_type": "markdown",
   "id": "156c3969-8956-4d23-a290-ca877be02dbb",
   "metadata": {},
   "source": [
    "# COLLECTIONS"
   ]
  },
  {
   "cell_type": "markdown",
   "id": "bc3a2241-32ec-4b13-8fdc-d437c749f653",
   "metadata": {},
   "source": [
    "1) collections.Counter()"
   ]
  },
  {
   "cell_type": "code",
   "execution_count": null,
   "id": "199c609c-672a-4226-b741-62df5bd732ca",
   "metadata": {},
   "outputs": [],
   "source": [
    "x = int(input())\n",
    "sizes = list(map(int, input().split()))\n",
    "n = int(input())\n",
    "earned = 0\n",
    "\n",
    "for i in range(n):\n",
    "    deal = list(map(int, input().split()))\n",
    "    if deal[0] in sizes:\n",
    "        earned += deal[1]\n",
    "        sizes.remove((deal[0]))\n",
    "\n",
    "print(earned)"
   ]
  },
  {
   "cell_type": "markdown",
   "id": "16b688b0-6a0f-423e-b65c-684d827c7a69",
   "metadata": {},
   "source": [
    "2) DefaultDict Tutorial"
   ]
  },
  {
   "cell_type": "code",
   "execution_count": null,
   "id": "2516cd6f-d291-4277-a04f-44e1597335d7",
   "metadata": {},
   "outputs": [],
   "source": [
    "from collections import defaultdict\n",
    "\n",
    "n, m = list(map(int, input().split()))\n",
    "\n",
    "dic_A = defaultdict(list)\n",
    "\n",
    "for i in range(1, n + 1):\n",
    "    dic_A[input()].append(i)\n",
    "\n",
    "list_b = [input() for i in range(0, m)]\n",
    "\n",
    "for b in list_b:\n",
    "    if b in dic_A:\n",
    "        print(*dic_A[b])\n",
    "    else:\n",
    "        print(\"-1\")"
   ]
  },
  {
   "cell_type": "markdown",
   "id": "a793c3ab-3fe9-4b4f-a675-923c69ddfec2",
   "metadata": {},
   "source": [
    "3) Collections.namedtuple()"
   ]
  },
  {
   "cell_type": "code",
   "execution_count": null,
   "id": "75de6599-4a8c-4eb8-8152-5821b7e7de50",
   "metadata": {},
   "outputs": [],
   "source": [
    "from collections import namedtuple\n",
    "\n",
    "n, info = (int(input()), namedtuple(\"info\", input().split()))\n",
    "grades = [int(info._make(input().split()).MARKS) for _ in range(n)]\n",
    "print(sum(grades)/len(grades))"
   ]
  },
  {
   "cell_type": "markdown",
   "id": "add5dffe-82af-4d8e-bc2b-1d6456a65edf",
   "metadata": {},
   "source": [
    "4) Collections.OrderedDict()"
   ]
  },
  {
   "cell_type": "code",
   "execution_count": null,
   "id": "43868854-0f33-4e0a-a55e-01f1c925d200",
   "metadata": {},
   "outputs": [],
   "source": [
    "from collections import OrderedDict\n",
    "\n",
    "n = int(input())\n",
    "item_dict = OrderedDict()\n",
    "for i in range(n):\n",
    "    item_name, net_price = input().rsplit(\" \", 1)\n",
    "    item_dict[item_name] = item_dict.get(item_name, 0) + int(net_price)\n",
    "for i, j in item_dict.items():\n",
    "    print(i, j)"
   ]
  },
  {
   "cell_type": "markdown",
   "id": "7782970b-3c88-4189-b013-799919cae2df",
   "metadata": {},
   "source": [
    "5) Word Order"
   ]
  },
  {
   "cell_type": "code",
   "execution_count": null,
   "id": "8f212f96-0c07-492d-9692-87407ec08c8f",
   "metadata": {},
   "outputs": [],
   "source": [
    "n = int(input())\n",
    "words_dict = {}\n",
    "\n",
    "for i in range(n):\n",
    "    word = input()\n",
    "    if word in words_dict:\n",
    "        words_dict[word] += 1\n",
    "    else:\n",
    "        words_dict[word] = 1\n",
    "        \n",
    "print(len(words_dict))\n",
    "for i in words_dict:\n",
    "    print(words_dict[i], end= ' ')"
   ]
  },
  {
   "cell_type": "markdown",
   "id": "b4b3c5e2-6cc5-40d7-9fa0-d86cd043957b",
   "metadata": {},
   "source": [
    "6) Collections.deque()"
   ]
  },
  {
   "cell_type": "code",
   "execution_count": null,
   "id": "b4bff8e2-a530-4995-8d08-54aa09106258",
   "metadata": {},
   "outputs": [],
   "source": [
    "from collections import deque\n",
    "\n",
    "n = int(input())\n",
    "d = deque()\n",
    "\n",
    "for i in range(n):\n",
    "    command = list(input().split())\n",
    "    if command[0] == \"append\":\n",
    "        d.append(command[1])\n",
    "    if command[0] == \"pop\":\n",
    "        d.pop()\n",
    "    if command[0] == \"popleft\":\n",
    "        d.popleft()\n",
    "    if command[0] == \"appendleft\":\n",
    "        d.appendleft(command[1])\n",
    "\n",
    "for i in range(len(d)):\n",
    "    print(d[i], end = \" \")"
   ]
  },
  {
   "cell_type": "markdown",
   "id": "bb449337-a31c-4398-9331-656b01d5d5d9",
   "metadata": {},
   "source": [
    "7) Company Logo"
   ]
  },
  {
   "cell_type": "code",
   "execution_count": null,
   "id": "2ba3cca7-c060-4201-b468-679f3cee07b4",
   "metadata": {},
   "outputs": [],
   "source": [
    "from collections import Counter\n",
    "\n",
    "letters = tuple(input())\n",
    "counter = Counter(sorted(letters))\n",
    "for i, j in counter.most_common(3):\n",
    "        print(i, j)"
   ]
  },
  {
   "cell_type": "markdown",
   "id": "512d57df-1e66-4916-bfd2-025d72875f76",
   "metadata": {},
   "source": [
    "8) Piling Up!"
   ]
  },
  {
   "cell_type": "code",
   "execution_count": null,
   "id": "c5754962-0bff-4fde-be7d-28401e2d87d9",
   "metadata": {},
   "outputs": [],
   "source": [
    "T = int(input())\n",
    "\n",
    "for _ in range(T):\n",
    "    n = int(input())\n",
    "    blocks = list(map(int, input().split()))\n",
    "    blocks = list(dict.fromkeys(blocks))\n",
    "    new_list = []\n",
    "    for _ in blocks:\n",
    "        validator = True\n",
    "        if blocks[0] > blocks[-1]:\n",
    "            new_list.append(blocks[0])\n",
    "            blocks.remove(blocks[0])\n",
    "        else:\n",
    "            new_list.append(blocks[-1])\n",
    "            blocks.remove(blocks[-1])\n",
    "        if blocks[0] > blocks[-1]:\n",
    "            new_added = blocks[0]\n",
    "            blocks.remove(blocks[0])\n",
    "        else: \n",
    "            new_added = blocks[-1]\n",
    "            blocks.pop()\n",
    "        if new_added <= new_list[-1]:\n",
    "            new_list.append(new_added)\n",
    "        else:\n",
    "            validator = False\n",
    "            print(\"No\")\n",
    "            break\n",
    "    if validator == True:\n",
    "        print(\"Yes\")"
   ]
  },
  {
   "cell_type": "markdown",
   "id": "24a04b84-aae3-4068-b696-f24185adea8a",
   "metadata": {},
   "source": [
    "# DATE AND TIME"
   ]
  },
  {
   "cell_type": "markdown",
   "id": "6726f33b-38c3-4ddc-a8bb-8b25478c7a3f",
   "metadata": {},
   "source": [
    "1) Calendar Module"
   ]
  },
  {
   "cell_type": "code",
   "execution_count": null,
   "id": "d1907e4d-f17c-4d1c-816c-68a31f995a82",
   "metadata": {},
   "outputs": [],
   "source": [
    "import calendar\n",
    "\n",
    "month, day, year = map(int, input().split())\n",
    "print(calendar.day_name[calendar.weekday(year, month, day)].upper())"
   ]
  },
  {
   "cell_type": "markdown",
   "id": "cfd96313-5b38-467a-aadb-41a32d973cb4",
   "metadata": {},
   "source": [
    "2) Time Delta"
   ]
  },
  {
   "cell_type": "code",
   "execution_count": null,
   "id": "a10ce614-4800-4f43-bcd0-2d6e1a510a69",
   "metadata": {},
   "outputs": [],
   "source": [
    "import math\n",
    "import os\n",
    "import random\n",
    "import re\n",
    "import sys\n",
    "from datetime import datetime\n",
    "\n",
    "# Complete the time_delta function below.\n",
    "def time_delta(t_1, t_2):\n",
    "    t_1 = datetime.strptime(t_1, '%a %d %b %Y %H:%M:%S %z')\n",
    "    t_2 = datetime.strptime(t_2, '%a %d %b %Y %H:%M:%S %z')\n",
    "    return str(int(abs((t_1 - t_2).total_seconds())))\n",
    "\n",
    "if __name__ == '__main__':\n",
    "    fptr = open(os.environ['OUTPUT_PATH'], 'w')\n",
    "    t = int(input())\n",
    "    for t_itr in range(t):\n",
    "        t1 = input()\n",
    "        t2 = input()\n",
    "        delta = time_delta(t1, t2)\n",
    "        fptr.write(delta + '\\n')\n",
    "    fptr.close()"
   ]
  },
  {
   "cell_type": "markdown",
   "id": "7d5de2b9-42cf-417d-9741-c0f4f644f75d",
   "metadata": {},
   "source": [
    "# EXCEPTIONS"
   ]
  },
  {
   "cell_type": "markdown",
   "id": "43f5a4fa-efc7-44f7-8ee7-5219046e8bba",
   "metadata": {},
   "source": [
    "1) Exceptions"
   ]
  },
  {
   "cell_type": "code",
   "execution_count": null,
   "id": "5f3712f9-05e4-4a81-94d5-cca1a11b8be0",
   "metadata": {},
   "outputs": [],
   "source": [
    "t = int(input())\n",
    "\n",
    "for i in range(t):\n",
    "    try:\n",
    "        a, b = map(int, input().split())\n",
    "        print(int(a / b))\n",
    "    except ZeroDivisionError as e:\n",
    "        print(\"Error Code: integer division or modulo by zero\")\n",
    "    except ValueError as v:\n",
    "        print(\"Error Code:\", v)"
   ]
  },
  {
   "cell_type": "markdown",
   "id": "0d605f03-288a-4f52-999b-d46a899e3145",
   "metadata": {},
   "source": [
    "# BUILT-INS"
   ]
  },
  {
   "cell_type": "markdown",
   "id": "69e38d79-9ebf-4836-b359-f84707a59be7",
   "metadata": {},
   "source": [
    "1) Zipped!"
   ]
  },
  {
   "cell_type": "code",
   "execution_count": null,
   "id": "e0b5811b-d6c5-488c-a5b1-66e1f3b649fc",
   "metadata": {},
   "outputs": [],
   "source": [
    "N, X = map(int, input().split())\n",
    "total = []\n",
    "\n",
    "for i in range(X):\n",
    "    values = map(float, input().split())\n",
    "    total.append(list(values))\n",
    "\n",
    "for i in zip(*total):\n",
    "    print(sum(i) / X)"
   ]
  },
  {
   "cell_type": "markdown",
   "id": "8c91ca5a-0a8a-4204-80d8-56013c0d41db",
   "metadata": {},
   "source": [
    "2) Athlete Sort"
   ]
  },
  {
   "cell_type": "code",
   "execution_count": null,
   "id": "1fdfb788-2211-4625-a6d9-a50dcf42c45f",
   "metadata": {},
   "outputs": [],
   "source": [
    "import math\n",
    "import os\n",
    "import random\n",
    "import re\n",
    "import sys\n",
    "\n",
    "if __name__ == '__main__':\n",
    "    nm = input().split()\n",
    "    n = int(nm[0])\n",
    "    m = int(nm[1])\n",
    "    arr = []\n",
    "    for _ in range(n):\n",
    "        arr.append(list(map(int, input().rstrip().split())))\n",
    "    k = int(input())\n",
    "    \n",
    "    arr.sort(key = lambda x : x[k])\n",
    "    for i in arr:\n",
    "        print(*i,sep=' ')"
   ]
  },
  {
   "cell_type": "markdown",
   "id": "3b5ab70b-ed79-4564-a036-c67feb5769f3",
   "metadata": {},
   "source": [
    "3) ginortS"
   ]
  },
  {
   "cell_type": "code",
   "execution_count": null,
   "id": "d06a6244-681e-4833-9f90-60f71f7d410f",
   "metadata": {},
   "outputs": [],
   "source": [
    "s = list(input())\n",
    "upper, lower, digit_even, digit_odd = [], [], [], []\n",
    "\n",
    "for i in range(len(s)):\n",
    "    if s[i].isupper() == True:\n",
    "        upper.append(s[i])\n",
    "    if s[i].islower() == True:\n",
    "        lower.append(s[i])\n",
    "    if s[i].isdigit() == True:\n",
    "        if int(s[i]) % 2 == 0:\n",
    "            digit_even.append(int(s[i]))\n",
    "        else:\n",
    "            digit_odd.append(int(s[i]))\n",
    "\n",
    "for i in sorted(lower):\n",
    "    print(i, end = \"\")\n",
    "for i in sorted(upper):\n",
    "    print(i, end = \"\")\n",
    "for i in sorted(digit_odd):\n",
    "    print(i, end = \"\")\n",
    "for i in sorted(digit_even):\n",
    "    print(i, end = \"\")"
   ]
  },
  {
   "cell_type": "markdown",
   "id": "ad682fc9-3e1d-47ce-9653-1c177044afcc",
   "metadata": {},
   "source": [
    "# PYTHON FUNCTIONALS"
   ]
  },
  {
   "cell_type": "markdown",
   "id": "ab4258f4-5e42-4af8-b750-13cfaf92128c",
   "metadata": {},
   "source": [
    "1) Map and Lambda Function"
   ]
  },
  {
   "cell_type": "code",
   "execution_count": null,
   "id": "8592e760-84d4-4ddc-9a88-12403c03ce6a",
   "metadata": {},
   "outputs": [],
   "source": [
    "cube = lambda x: x**3\n",
    "\n",
    "def fibonacci(n):\n",
    "    fib = [0, 1]\n",
    "    if n == 0:\n",
    "        return []\n",
    "    elif n == 1:\n",
    "        return [0]\n",
    "    else:\n",
    "        for i in range(1, n-1):\n",
    "            fib.append(fib[i-1]+fib[i])\n",
    "        return fib"
   ]
  },
  {
   "cell_type": "markdown",
   "id": "ae8881e5-8e42-4c8c-87a7-d94c2a492af0",
   "metadata": {},
   "source": [
    "# REGEX AND PARSING CHALLENGES"
   ]
  },
  {
   "cell_type": "markdown",
   "id": "af597626-d4d0-4994-bd0c-c00942aead88",
   "metadata": {},
   "source": [
    "1) Detect Floating Point Number"
   ]
  },
  {
   "cell_type": "code",
   "execution_count": null,
   "id": "51511786-3923-4c51-b180-ea0a5112dc1e",
   "metadata": {},
   "outputs": [],
   "source": [
    "import re\n",
    "\n",
    "T = int(input())\n",
    "\n",
    "for i in range(T):\n",
    "    string = input()\n",
    "    try:\n",
    "        float(string)\n",
    "        pattern = \"^[-|+]?\\d*[.]\\d+$\"\n",
    "        print(bool(re.match(pattern, string)))\n",
    "    except:\n",
    "        print(\"False\")"
   ]
  },
  {
   "cell_type": "markdown",
   "id": "acd82915-d08f-4300-ac05-3b9ed4a9fb02",
   "metadata": {},
   "source": [
    "2) Re.split()"
   ]
  },
  {
   "cell_type": "code",
   "execution_count": null,
   "id": "fb07163e-c3de-4696-88c5-f8e169cb0329",
   "metadata": {},
   "outputs": [],
   "source": [
    "regex_pattern = r\"[,.]\""
   ]
  },
  {
   "cell_type": "markdown",
   "id": "55749432-a633-40ef-b09f-4c4e2c21109e",
   "metadata": {},
   "source": [
    "3) Group(), Groups() & Groupdict()"
   ]
  },
  {
   "cell_type": "code",
   "execution_count": null,
   "id": "e24b3847-4821-4d8e-92c5-ccbebdeb0cd6",
   "metadata": {},
   "outputs": [],
   "source": [
    "import re\n",
    "\n",
    "S = input()\n",
    "finder = re.search(r\"([a-z0-9A-Z])\\1\", S)\n",
    "if finder == None:\n",
    "    print(\"-1\")\n",
    "else:\n",
    "    print(finder.groups()[0])"
   ]
  },
  {
   "cell_type": "markdown",
   "id": "b3bfb8ca-84f3-454f-9b0a-800976761d2d",
   "metadata": {},
   "source": [
    "4) Re.findall() & Re.finditer()"
   ]
  },
  {
   "cell_type": "code",
   "execution_count": null,
   "id": "8a33532e-0fbf-4d55-ba4d-dd9f64acb5bf",
   "metadata": {},
   "outputs": [],
   "source": [
    "import re\n",
    "\n",
    "S = input()\n",
    "pattern = \"(?<=[QWRTYPSDFGHJKLZXCVBNMqwrtypsdfghjklzxcvbnm])[aeiouAEIOU]{2,}(?=[QWRTYPSDFGHJKLZXCVBNMqwrtypsdfghjklzxcvbnm])\"\n",
    "matches = re.findall(pattern, S)\n",
    "\n",
    "if len(matches) != 0:\n",
    "    for match in matches:\n",
    "        print(match)\n",
    "else:\n",
    "    print(\"-1\")"
   ]
  },
  {
   "cell_type": "markdown",
   "id": "78e527fb-a4b4-469a-acc6-f5c43fc10938",
   "metadata": {},
   "source": [
    "5) Re.start() & Re.end()"
   ]
  },
  {
   "cell_type": "code",
   "execution_count": null,
   "id": "b4c1a3a2-f48e-490c-8cfa-9042e20fd743",
   "metadata": {},
   "outputs": [],
   "source": [
    "import re\n",
    "\n",
    "S = input()\n",
    "k = input()\n",
    "\n",
    "m = re.search(k, S)\n",
    "\n",
    "if m == None:\n",
    "    print(\"(-1, -1)\")\n",
    "else:\n",
    "    print(f\"({m.start()}, {m.end() - 1})\")\n",
    "    finder = True\n",
    "    if m.start() == m.end() - 1:\n",
    "        start_pos = m.end()\n",
    "    else:\n",
    "        start_pos = m.end() - 1\n",
    "    while finder == True:\n",
    "        m = re.search(k, S[start_pos:])\n",
    "        if m == None:\n",
    "            finder = False\n",
    "        else:\n",
    "            print(f\"({m.start() + start_pos}, {m.end() + start_pos - 1})\")\n",
    "            if m.start() == m.end() - 1:\n",
    "                start_pos += m.end()\n",
    "            else:\n",
    "                start_pos += m.end() - 1"
   ]
  },
  {
   "cell_type": "markdown",
   "id": "c7f9797c-037d-4848-ae38-7e03f36bd282",
   "metadata": {},
   "source": [
    "6) Regex Substitution"
   ]
  },
  {
   "cell_type": "code",
   "execution_count": null,
   "id": "f066fb85-441e-43ae-9813-b280a7203ce6",
   "metadata": {},
   "outputs": [],
   "source": [
    "import re\n",
    "\n",
    "N = int(input())\n",
    "\n",
    "for i in range(N):\n",
    "    s = re.sub(\"(?<=\\s)&&(?=\\s)\", \"and\", input())\n",
    "    print(re.sub(\"(?<=\\s)\\|\\|(?=\\s)\", \"or\", s))"
   ]
  },
  {
   "cell_type": "markdown",
   "id": "84154ea9-0a11-4f88-9629-aefb97aefbe0",
   "metadata": {},
   "source": [
    "7) Validating Roman Numerals"
   ]
  },
  {
   "cell_type": "code",
   "execution_count": null,
   "id": "6b6ea439-ef1c-456b-9657-413050e796d2",
   "metadata": {},
   "outputs": [],
   "source": [
    "regex_pattern = r\"M{0,3}(CM|CD|D?C{0,3})(XC|XL|L?X{0,3})(IX|IV|V?I{0,3})$\""
   ]
  },
  {
   "cell_type": "markdown",
   "id": "16ad8d74-9934-44c4-a4fa-7b26847f8919",
   "metadata": {},
   "source": [
    "8) Validating phone numbers"
   ]
  },
  {
   "cell_type": "code",
   "execution_count": null,
   "id": "adab97ad-f6df-44f8-b982-2b148f3466a5",
   "metadata": {},
   "outputs": [],
   "source": [
    "import re\n",
    "\n",
    "N = int(input())\n",
    "\n",
    "for i in range(N):\n",
    "       string = input()\n",
    "       validator = re.search(r'^[789]\\d{9}$', string)\n",
    "       if validator != None:\n",
    "         print('YES')\n",
    "       else:\n",
    "         print('NO')"
   ]
  },
  {
   "cell_type": "markdown",
   "id": "8b5bc437-7dae-43d1-ab1b-c3d298824d20",
   "metadata": {},
   "source": [
    "9) Validating and Pairsing Email Addresses"
   ]
  },
  {
   "cell_type": "code",
   "execution_count": null,
   "id": "359002b8-e5f5-4588-940d-d9bf99970080",
   "metadata": {},
   "outputs": [],
   "source": [
    "import email.utils\n",
    "import re\n",
    "\n",
    "n = int(input())\n",
    "pattern = r\"^[A-Za-z].+[\\@]{1}([A-Za-z])+[\\.]{1}[a-z]{1,3}$\" # I copied this pattern\n",
    "\n",
    "for _ in range(n):\n",
    "    string = input()\n",
    "    validator = re.search(pattern, email.utils.parseaddr(string)[1])\n",
    "    if validator != None:\n",
    "        print(string)"
   ]
  },
  {
   "cell_type": "markdown",
   "id": "e448a06f-fa99-4dfa-9748-9c512734aac4",
   "metadata": {},
   "source": [
    "10) Hex Color Code"
   ]
  },
  {
   "cell_type": "code",
   "execution_count": null,
   "id": "f8f5620a-64cd-45c9-8a83-34b867aa04aa",
   "metadata": {},
   "outputs": [],
   "source": [
    "import re\n",
    "\n",
    "pattern = \"(?<=[\\s,:])(#([0-9A-Fa-f]{3}){1,2})(?!$)\" # I copied this pattern\n",
    "lines = \"\"\n",
    "N = int(input())\n",
    "\n",
    "for _ in range(N):\n",
    "    line = input()\n",
    "    lines += (line)\n",
    "col_codes = re.findall(pattern, lines)\n",
    "\n",
    "for i in col_codes:\n",
    "    print(i[0])"
   ]
  },
  {
   "cell_type": "markdown",
   "id": "e6bee972-0867-48ab-aed0-59fd8e479534",
   "metadata": {},
   "source": [
    "11) HTML Parser - Part 1"
   ]
  },
  {
   "cell_type": "code",
   "execution_count": null,
   "id": "ada345c3-4ac9-4516-97b7-165de2e64ee9",
   "metadata": {},
   "outputs": [],
   "source": []
  },
  {
   "cell_type": "markdown",
   "id": "1b9229ab-52bd-4818-83dd-06c31878f46f",
   "metadata": {},
   "source": [
    "12) HTML Parser - Part 2"
   ]
  },
  {
   "cell_type": "code",
   "execution_count": null,
   "id": "9a120ed3-993a-4f11-83d1-4dfd401a6d31",
   "metadata": {},
   "outputs": [],
   "source": []
  },
  {
   "cell_type": "markdown",
   "id": "4aea1feb-ded9-41f8-a9ce-55f649106bfd",
   "metadata": {},
   "source": [
    "13) Detect HTML Tags, Attributes and Attribute Values"
   ]
  },
  {
   "cell_type": "code",
   "execution_count": null,
   "id": "c721f98f-c5e4-49c0-9f67-bc62fff782ab",
   "metadata": {},
   "outputs": [],
   "source": []
  },
  {
   "cell_type": "markdown",
   "id": "2f5fd6d9-35ab-4e1b-af6e-e30f49dfec14",
   "metadata": {},
   "source": [
    "14) Validating UID"
   ]
  },
  {
   "cell_type": "code",
   "execution_count": null,
   "id": "0da78182-a57f-4792-88f4-6c90582da30e",
   "metadata": {},
   "outputs": [],
   "source": []
  },
  {
   "cell_type": "markdown",
   "id": "9b46da6e-c988-4ded-918e-9055b90da086",
   "metadata": {},
   "source": [
    "15) Validating Credit Card Numbers"
   ]
  },
  {
   "cell_type": "code",
   "execution_count": null,
   "id": "4bf288b0-4fd8-40ae-8467-ed1ccce36588",
   "metadata": {},
   "outputs": [],
   "source": []
  },
  {
   "cell_type": "markdown",
   "id": "c3857eb2-4c51-4095-be88-51c1b60390da",
   "metadata": {},
   "source": [
    "16) Validating Postal Codes"
   ]
  },
  {
   "cell_type": "code",
   "execution_count": null,
   "id": "9d88e7a5-f893-4290-b779-c53904affb64",
   "metadata": {},
   "outputs": [],
   "source": []
  },
  {
   "cell_type": "markdown",
   "id": "2ccc2837-a8a9-474e-bbe9-3943586d5d2c",
   "metadata": {},
   "source": [
    "17) Matrix Script"
   ]
  },
  {
   "cell_type": "code",
   "execution_count": null,
   "id": "5e4ff5ab-7fc1-4942-be91-1ad0ab759ffd",
   "metadata": {},
   "outputs": [],
   "source": []
  },
  {
   "cell_type": "markdown",
   "id": "cd727a04-b928-4f3b-a270-721eb4352f39",
   "metadata": {},
   "source": [
    "# XML"
   ]
  },
  {
   "cell_type": "markdown",
   "id": "eaf2875b-944b-4d15-bff7-9ea0909b6ea1",
   "metadata": {},
   "source": [
    "1) XML 1 - Find the Score"
   ]
  },
  {
   "cell_type": "code",
   "execution_count": null,
   "id": "9eed31f4-0e0c-4a58-982d-eba2e2177158",
   "metadata": {},
   "outputs": [],
   "source": []
  },
  {
   "cell_type": "markdown",
   "id": "907646bb-f582-4e64-8b4b-85fb70bbe502",
   "metadata": {},
   "source": [
    "2) XML2 - Find the Maximum Depth"
   ]
  },
  {
   "cell_type": "code",
   "execution_count": null,
   "id": "14a8a0d6-f8f1-406c-b76f-51d260f19695",
   "metadata": {},
   "outputs": [],
   "source": []
  },
  {
   "cell_type": "markdown",
   "id": "a3a082c6-e8b5-4151-9bf1-acd73e7c7c6a",
   "metadata": {},
   "source": [
    "# CLOSURES AND DECORATIONS"
   ]
  },
  {
   "cell_type": "markdown",
   "id": "b2b32e8b-6db1-4e64-9d89-0ae1dafdc824",
   "metadata": {},
   "source": [
    "1) Standardize Mobile Number Using Decorators"
   ]
  },
  {
   "cell_type": "code",
   "execution_count": null,
   "id": "c588fb1c-b314-4631-a034-f2f41de652c7",
   "metadata": {},
   "outputs": [],
   "source": [
    "def wrapper(f):\n",
    "    def fun(l):\n",
    "        new_list = []\n",
    "        for number in l:\n",
    "            new_list.append('+91 ' + number[-10:-5] + ' ' + number[-5:])\n",
    "        return f(new_list)\n",
    "    return fun"
   ]
  },
  {
   "cell_type": "markdown",
   "id": "d959ee79-6feb-4610-901c-75a9dfdf6cac",
   "metadata": {},
   "source": [
    "2) Decorators 2 - Name Directory"
   ]
  },
  {
   "cell_type": "code",
   "execution_count": null,
   "id": "e0439776-a90d-428c-8ad5-780a8436a32e",
   "metadata": {},
   "outputs": [],
   "source": [
    "def person_lister(f):\n",
    "    def inner(people):\n",
    "        new_list = []\n",
    "        for person in range(len(people)):\n",
    "            people[person][2] = int(people[person][2])\n",
    "        people.sort(key = operator.itemgetter(2))\n",
    "        for person in people:\n",
    "            new_list.append(f(person))\n",
    "        return new_list\n",
    "    return inner"
   ]
  },
  {
   "cell_type": "markdown",
   "id": "3143c428-4bcb-4ff4-94f6-5d4f01a3d6cb",
   "metadata": {},
   "source": [
    "# NUMPY"
   ]
  },
  {
   "cell_type": "markdown",
   "id": "f3a1aa15-95aa-4fd0-9846-8a2a92f8c50d",
   "metadata": {},
   "source": [
    "1) Arrays"
   ]
  },
  {
   "cell_type": "code",
   "execution_count": null,
   "id": "631c26a0-5d4b-4e54-9ecb-ffe9b80172c3",
   "metadata": {},
   "outputs": [],
   "source": [
    "def arrays(arr):\n",
    "    new_arr = numpy.flip(numpy.array(arr, float))\n",
    "    return new_arr"
   ]
  },
  {
   "cell_type": "markdown",
   "id": "c23f54b5-661e-49f0-9cd1-1c123f1c725a",
   "metadata": {},
   "source": [
    "2) Shape and Reshape"
   ]
  },
  {
   "cell_type": "code",
   "execution_count": null,
   "id": "c478b6f4-17cf-4da0-b754-e14eab385904",
   "metadata": {},
   "outputs": [],
   "source": [
    "import numpy \n",
    "\n",
    "arr = numpy.array(input().strip().split(' '), int)\n",
    "new_arr = numpy.reshape(arr, (3, 3))\n",
    "print(new_arr)"
   ]
  },
  {
   "cell_type": "markdown",
   "id": "d2b72b56-4d37-47a9-8a77-5f4149d92e20",
   "metadata": {},
   "source": [
    "3) Transpose and Flatten"
   ]
  },
  {
   "cell_type": "code",
   "execution_count": null,
   "id": "9e79bc9e-d650-4a06-94ab-c5a235a93b74",
   "metadata": {},
   "outputs": [],
   "source": [
    "import numpy\n",
    " \n",
    "N, M = map(int, input().split())\n",
    "arr = numpy.array([input().split()], int)\n",
    "for i in range(1, N):\n",
    "    new_row = numpy.array([input().split()], int)\n",
    "    arr = numpy.vstack ((arr, new_row))\n",
    "    \n",
    "print (numpy.transpose(arr))\n",
    "print (arr.flatten())"
   ]
  },
  {
   "cell_type": "markdown",
   "id": "602ed308-7c65-43ba-8e2a-7022ecf38f04",
   "metadata": {},
   "source": [
    "4) Concatenate"
   ]
  },
  {
   "cell_type": "code",
   "execution_count": null,
   "id": "72b417cb-d917-48fa-8693-156b0300d143",
   "metadata": {},
   "outputs": [],
   "source": [
    "import numpy\n",
    "\n",
    "N, M, P = map(int, input().split())\n",
    "arr_1 = numpy.array([input().split()], int)\n",
    "for i in range(1, N):\n",
    "    new_row_1 = numpy.array([input().split()], int)\n",
    "    arr_1 = numpy.vstack ((arr_1, new_row_1))\n",
    "arr_2 = numpy.array([input().split()], int)\n",
    "for i in range(1, M):\n",
    "    new_row_2 = numpy.array([input().split()], int)\n",
    "    arr_2 = numpy.vstack ((arr_2, new_row_2))\n",
    "print(numpy.concatenate((arr_1, arr_2)))"
   ]
  },
  {
   "cell_type": "markdown",
   "id": "15dd6a2f-5819-4c66-8f40-4f39b495d8f8",
   "metadata": {},
   "source": [
    "5) Zeros and Ones"
   ]
  },
  {
   "cell_type": "code",
   "execution_count": null,
   "id": "1e52d11c-b14c-496b-91d6-e00d91efb5d3",
   "metadata": {},
   "outputs": [],
   "source": [
    "import numpy\n",
    "\n",
    "dim = list(map(int, input().split()))\n",
    "print(numpy.zeros((dim), dtype = numpy.int))\n",
    "print(numpy.ones((dim), dtype = numpy.int))"
   ]
  },
  {
   "cell_type": "markdown",
   "id": "eb4c5435-a613-4996-8d02-bb30b0e5f940",
   "metadata": {},
   "source": [
    "6) Eye and Identity"
   ]
  },
  {
   "cell_type": "code",
   "execution_count": null,
   "id": "a818535d-e40e-437f-ae51-1106605172ee",
   "metadata": {},
   "outputs": [],
   "source": [
    "import numpy\n",
    "numpy.set_printoptions(legacy = \"1.13\")\n",
    "\n",
    "N, M = map(int, input().split())\n",
    "print(numpy.eye(N, M))"
   ]
  },
  {
   "cell_type": "markdown",
   "id": "ee053c63-7668-4d8f-91bc-5db0e6fb5e47",
   "metadata": {},
   "source": [
    "7) Array Mathematics"
   ]
  },
  {
   "cell_type": "code",
   "execution_count": null,
   "id": "c77c673b-949b-4527-bbde-c79fe1cdb56c",
   "metadata": {},
   "outputs": [],
   "source": [
    "import numpy\n",
    "\n",
    "N, M = map(int, input().split())\n",
    "arr_A = numpy.array([input().split()], int)\n",
    "for i in range(1, N):\n",
    "    new_row_A = numpy.array([input().split()], int)\n",
    "    arr_A = numpy.vstack ((arr_A, new_row_A))\n",
    "arr_B = numpy.array([input().split()], int)\n",
    "for i in range(1, N):\n",
    "    new_row_B = numpy.array([input().split()], int)\n",
    "    arr_B = numpy.vstack ((arr_B, new_row_B))\n",
    "print(numpy.add(arr_A, arr_B))\n",
    "print(numpy.subtract(arr_A, arr_B))\n",
    "print(numpy.multiply(arr_A, arr_B))\n",
    "print(numpy.floor_divide(arr_A, arr_B))\n",
    "print(numpy.mod(arr_A, arr_B))\n",
    "print(numpy.power(arr_A, arr_B))"
   ]
  },
  {
   "cell_type": "markdown",
   "id": "c7bfaffa-5b93-4414-ba93-fae4709acbdb",
   "metadata": {},
   "source": [
    "8) Floor, Ceil and Rint"
   ]
  },
  {
   "cell_type": "code",
   "execution_count": null,
   "id": "99a36707-358f-4f4e-9c53-63fdf47ac5fd",
   "metadata": {},
   "outputs": [],
   "source": [
    "import numpy\n",
    "numpy.set_printoptions(legacy='1.13')\n",
    "\n",
    "arr = numpy.array(input().split(), float)\n",
    "print(numpy.floor(arr))\n",
    "print(numpy.ceil(arr))\n",
    "print(numpy.rint(arr))"
   ]
  },
  {
   "cell_type": "markdown",
   "id": "3b968481-f2e0-4847-b700-242834f20e20",
   "metadata": {},
   "source": [
    "9) Sum and Prod"
   ]
  },
  {
   "cell_type": "code",
   "execution_count": null,
   "id": "2f126237-f8e5-446e-aaea-15ddcef96af3",
   "metadata": {},
   "outputs": [],
   "source": [
    "import numpy\n",
    "\n",
    "N, M = map(int, input().split())\n",
    "arr = numpy.array([input().split()], int)\n",
    "for i in range(1, N):\n",
    "    new_row = numpy.array([input().split()], int)\n",
    "    arr = numpy.vstack ((arr, new_row))\n",
    "print(numpy.prod(numpy.sum(arr, 0)))"
   ]
  },
  {
   "cell_type": "markdown",
   "id": "1c21c39e-401d-4ce5-913c-bc1cd86d557c",
   "metadata": {},
   "source": [
    "10) Min and Max"
   ]
  },
  {
   "cell_type": "code",
   "execution_count": null,
   "id": "d5b4eb71-426b-4841-8262-c981a0772bca",
   "metadata": {},
   "outputs": [],
   "source": [
    "import numpy\n",
    "\n",
    "N, M = map(int, input().split())\n",
    "arr = numpy.array([input().split()], int)\n",
    "for i in range(1, N):\n",
    "    new_row = numpy.array([input().split()], int)\n",
    "    arr = numpy.vstack ((arr, new_row))\n",
    "print(numpy.max(numpy.min(arr, 1)))"
   ]
  },
  {
   "cell_type": "markdown",
   "id": "67c284ae-e673-4ed2-acb1-07d06ec9e4e4",
   "metadata": {},
   "source": [
    "11) Mean, Var, and Std"
   ]
  },
  {
   "cell_type": "code",
   "execution_count": null,
   "id": "ac6c8fb2-8835-4f45-9517-f216c0bbe19e",
   "metadata": {},
   "outputs": [],
   "source": [
    "import numpy\n",
    "\n",
    "N, M = map(int, input().split())\n",
    "arr = numpy.array([input().split()], int)\n",
    "for i in range(1, N):\n",
    "    new_row = numpy.array([input().split()], int)\n",
    "    arr = numpy.vstack ((arr, new_row))\n",
    "print(numpy.mean(arr, 1))\n",
    "print(numpy.var(arr, 0))\n",
    "print(numpy.around(numpy.std(arr), decimals=11))"
   ]
  },
  {
   "cell_type": "markdown",
   "id": "ca6b467c-cfe1-4fc4-a600-f03153347367",
   "metadata": {},
   "source": [
    "12) Dot and Cross"
   ]
  },
  {
   "cell_type": "code",
   "execution_count": null,
   "id": "d9f664ec-83ea-41dc-b1e1-d8e024626b05",
   "metadata": {},
   "outputs": [],
   "source": [
    "import numpy\n",
    "\n",
    "N = int(input())\n",
    "arr_1 = numpy.array([input().split()], int)\n",
    "for i in range(1, N):\n",
    "    new_row_1 = numpy.array([input().split()], int)\n",
    "    arr_1 = numpy.vstack ((arr_1, new_row_1))\n",
    "arr_2 = numpy.array([input().split()], int)\n",
    "for i in range(1, N):\n",
    "    new_row_2 = numpy.array([input().split()], int)\n",
    "    arr_2 = numpy.vstack ((arr_2, new_row_2))\n",
    "print(numpy.dot(arr_1, arr_2))"
   ]
  },
  {
   "cell_type": "markdown",
   "id": "8dc4ced8-8aee-4cea-9024-dc8c76ea4a0d",
   "metadata": {},
   "source": [
    "13) Inner and Outer"
   ]
  },
  {
   "cell_type": "code",
   "execution_count": null,
   "id": "056b6a2a-1b44-4fb8-8dcb-93412d29399b",
   "metadata": {},
   "outputs": [],
   "source": [
    "import numpy\n",
    "\n",
    "arr_1 = numpy.array(input().split(), int)\n",
    "arr_2 = numpy.array(input().split(), int)\n",
    "print(numpy.inner(arr_1, arr_2))\n",
    "print(numpy.outer(arr_1, arr_2))"
   ]
  },
  {
   "cell_type": "markdown",
   "id": "1a1eabc9-1695-46ff-a5af-f03e7be8413c",
   "metadata": {},
   "source": [
    "14) Polynomials"
   ]
  },
  {
   "cell_type": "code",
   "execution_count": null,
   "id": "b504e743-4938-449c-8a4f-39c828a2e495",
   "metadata": {},
   "outputs": [],
   "source": [
    "import numpy\n",
    "\n",
    "P = numpy.array(input().split(), float)\n",
    "x = int(input())\n",
    "print(numpy.polyval(P, x))"
   ]
  },
  {
   "cell_type": "markdown",
   "id": "f966c7d0-ac56-4b10-9350-26487bcf3c1d",
   "metadata": {},
   "source": [
    "15) Linear Algebra"
   ]
  },
  {
   "cell_type": "code",
   "execution_count": null,
   "id": "aee7a2e8-ac6d-44b1-a396-46ac0b0add8e",
   "metadata": {},
   "outputs": [],
   "source": [
    "import numpy\n",
    "\n",
    "N = int(input())\n",
    "arr = numpy.array([input().split()], float)\n",
    "for i in range(1, N):\n",
    "    new_row = numpy.array([input().split()], float)\n",
    "    arr = numpy.vstack ((arr, new_row))\n",
    "print(round(numpy.linalg.det(arr), 3))"
   ]
  },
  {
   "cell_type": "markdown",
   "id": "125c12a2-c658-4be4-a9ed-360b5c0ad50f",
   "metadata": {},
   "source": [
    "# ALGORITHMS CHALLENGES"
   ]
  },
  {
   "cell_type": "markdown",
   "id": "9aa0aaa8-d784-46e6-829f-7b43b4c97bba",
   "metadata": {},
   "source": [
    "1) Birthday Cake Candles"
   ]
  },
  {
   "cell_type": "code",
   "execution_count": null,
   "id": "af9c3979-d1a9-493d-8040-a1cfc8d63a2d",
   "metadata": {},
   "outputs": [],
   "source": [
    "#!/bin/python3\n",
    "\n",
    "import math\n",
    "import os\n",
    "import random\n",
    "import re\n",
    "import sys\n",
    "\n",
    "#\n",
    "# Complete the 'birthdayCakeCandles' function below.\n",
    "#\n",
    "# The function is expected to return an INTEGER.\n",
    "# The function accepts INTEGER_ARRAY candles as parameter.\n",
    "#\n",
    "\n",
    "def birthdayCakeCandles(candles):\n",
    "    candle = max(candles)\n",
    "    counter = 0\n",
    "    for i in candles:\n",
    "        if i == candle:\n",
    "         counter += 1\n",
    "    return counter\n",
    "\n",
    "if __name__ == '__main__':\n",
    "    fptr = open(os.environ['OUTPUT_PATH'], 'w')\n",
    "\n",
    "    candles_count = int(input().strip())\n",
    "\n",
    "    candles = list(map(int, input().rstrip().split()))\n",
    "\n",
    "    result = birthdayCakeCandles(candles)\n",
    "\n",
    "    fptr.write(str(result) + '\\n')\n",
    "\n",
    "    fptr.close()"
   ]
  },
  {
   "cell_type": "markdown",
   "id": "29ad031d-c3ef-4b11-a11e-55665a866115",
   "metadata": {},
   "source": [
    "2) Number Line Jumps"
   ]
  },
  {
   "cell_type": "code",
   "execution_count": null,
   "id": "d156c9b8-a99c-4e8c-b5a4-1fd6ff2086f4",
   "metadata": {},
   "outputs": [],
   "source": [
    "#!/bin/python3\n",
    "\n",
    "import math\n",
    "import os\n",
    "import random\n",
    "import re\n",
    "import sys\n",
    "\n",
    "#\n",
    "# Complete the 'kangaroo' function below.\n",
    "#\n",
    "# The function is expected to return a STRING.\n",
    "# The function accepts following parameters:\n",
    "#  1. INTEGER x1\n",
    "#  2. INTEGER v1\n",
    "#  3. INTEGER x2\n",
    "#  4. INTEGER v2\n",
    "#\n",
    "\n",
    "def kangaroo(x1, v1, x2, v2):\n",
    "    if v2 - v1 == 0 or (x1 - x2) * (v2 - v1) < 0 or (x1 - x2) % (v2 - v1) != 0:\n",
    "        return \"NO\"\n",
    "    else:\n",
    "        return \"YES\"\n",
    "\n",
    "if __name__ == '__main__':\n",
    "    fptr = open(os.environ['OUTPUT_PATH'], 'w')\n",
    "\n",
    "    first_multiple_input = input().rstrip().split()\n",
    "\n",
    "    x1 = int(first_multiple_input[0])\n",
    "\n",
    "    v1 = int(first_multiple_input[1])\n",
    "\n",
    "    x2 = int(first_multiple_input[2])\n",
    "\n",
    "    v2 = int(first_multiple_input[3])\n",
    "\n",
    "    result = kangaroo(x1, v1, x2, v2)\n",
    "\n",
    "    fptr.write(result + '\\n')\n",
    "\n",
    "    fptr.close()"
   ]
  },
  {
   "cell_type": "markdown",
   "id": "2e2620ca-4be0-4d9d-9543-d291e08da214",
   "metadata": {},
   "source": [
    "3) Viral Advertising"
   ]
  },
  {
   "cell_type": "code",
   "execution_count": null,
   "id": "b77f4864-df6d-449a-8f16-a0505a54dc5b",
   "metadata": {},
   "outputs": [],
   "source": [
    "#!/bin/python3\n",
    "\n",
    "import math\n",
    "import os\n",
    "import random\n",
    "import re\n",
    "import sys\n",
    "\n",
    "#\n",
    "# Complete the 'viralAdvertising' function below.\n",
    "#\n",
    "# The function is expected to return an INTEGER.\n",
    "# The function accepts INTEGER n as parameter.\n",
    "#\n",
    "\n",
    "def viralAdvertising(n):\n",
    "    liked = 0\n",
    "    shared = 5\n",
    "    for _ in range(n):\n",
    "        new_likes = int(shared / 2)\n",
    "        shared = new_likes * 3\n",
    "        liked += new_likes\n",
    "    return liked\n",
    "\n",
    "if __name__ == '__main__':\n",
    "    fptr = open(os.environ['OUTPUT_PATH'], 'w')\n",
    "\n",
    "    n = int(input().strip())\n",
    "\n",
    "    result = viralAdvertising(n)\n",
    "\n",
    "    fptr.write(str(result) + '\\n')\n",
    "\n",
    "    fptr.close()"
   ]
  },
  {
   "cell_type": "markdown",
   "id": "3acb4035-3d01-4db4-903e-0be274c84c0e",
   "metadata": {},
   "source": [
    "4) Recursive Digit Sum"
   ]
  },
  {
   "cell_type": "code",
   "execution_count": null,
   "id": "0bbf8417-f0b6-4b29-b041-18adf80cfeb9",
   "metadata": {},
   "outputs": [],
   "source": [
    "#!/bin/python3\n",
    "\n",
    "import math\n",
    "import os\n",
    "import random\n",
    "import re\n",
    "import sys\n",
    "\n",
    "#\n",
    "# Complete the 'superDigit' function below.\n",
    "#\n",
    "# The function is expected to return an INTEGER.\n",
    "# The function accepts following parameters:\n",
    "#  1. STRING n\n",
    "#  2. INTEGER k\n",
    "#\n",
    "\n",
    "def superDigit(n, k):\n",
    "    tuple_n = tuple(str(sum(map(int, tuple(n))) * k))\n",
    "    while len(tuple_n) > 1:\n",
    "        tuple_n = tuple(str(sum(map(int, tuple_n))))\n",
    "    return int(tuple_n[0])\n",
    "\n",
    "if __name__ == '__main__':\n",
    "    fptr = open(os.environ['OUTPUT_PATH'], 'w')\n",
    "\n",
    "    first_multiple_input = input().rstrip().split()\n",
    "\n",
    "    n = first_multiple_input[0]\n",
    "\n",
    "    k = int(first_multiple_input[1])\n",
    "\n",
    "    result = superDigit(n, k)\n",
    "\n",
    "    fptr.write(str(result) + '\\n')\n",
    "\n",
    "    fptr.close()"
   ]
  },
  {
   "cell_type": "markdown",
   "id": "1298822a-1a3f-4c47-9a79-2d578ba34d41",
   "metadata": {},
   "source": [
    "5) Insertion Sort - Part 1"
   ]
  },
  {
   "cell_type": "code",
   "execution_count": null,
   "id": "b835405a-68fa-4972-9088-6aea592fd0fc",
   "metadata": {},
   "outputs": [],
   "source": [
    "#!/bin/python3\n",
    "\n",
    "import math\n",
    "import os\n",
    "import random\n",
    "import re\n",
    "import sys\n",
    "\n",
    "#\n",
    "# Complete the 'insertionSort1' function below.\n",
    "#\n",
    "# The function accepts following parameters:\n",
    "#  1. INTEGER n\n",
    "#  2. INTEGER_ARRAY arr\n",
    "#\n",
    "\n",
    "def insertionSort1(n, arr):\n",
    "    number = arr[-1]\n",
    "    arr_sorted = False\n",
    "    while arr_sorted == False:\n",
    "        if number < arr[n-2]:\n",
    "            arr[n-1] = arr[n-2]\n",
    "            [print(int(arr[x]), end = \" \") for x in range(len(arr))]\n",
    "            print()\n",
    "            n -= 1\n",
    "            if n == 1:\n",
    "                arr[0] = number\n",
    "                arr_sorted = True\n",
    "        else:\n",
    "            arr[n-1] = number\n",
    "            arr_sorted = True\n",
    "    [print(int(arr[x]), end = \" \") for x in range(len(arr))]\n",
    "\n",
    "if __name__ == '__main__':\n",
    "    n = int(input().strip())\n",
    "\n",
    "    arr = list(map(int, input().rstrip().split()))\n",
    "\n",
    "    insertionSort1(n, arr)"
   ]
  },
  {
   "cell_type": "markdown",
   "id": "6c7209df-f10f-4cee-8202-a6201e0be53b",
   "metadata": {},
   "source": [
    "6) Insertion Sort - Part 2"
   ]
  },
  {
   "cell_type": "code",
   "execution_count": null,
   "id": "a45cd28d-3701-4ddc-bca9-38c06984c547",
   "metadata": {},
   "outputs": [],
   "source": [
    "#!/bin/python3\n",
    "\n",
    "import math\n",
    "import os\n",
    "import random\n",
    "import re\n",
    "import sys\n",
    "\n",
    "#\n",
    "# Complete the 'insertionSort2' function below.\n",
    "#\n",
    "# The function accepts following parameters:\n",
    "#  1. INTEGER n\n",
    "#  2. INTEGER_ARRAY arr\n",
    "#\n",
    "\n",
    "def insertionSort2(n, arr):\n",
    "    for i in range(len(arr)-1):\n",
    "        if arr[i] > arr[i+1]:\n",
    "            old = arr[i+1]\n",
    "            arr[i+1] = arr[i]\n",
    "            arr[i] = old\n",
    "            if arr[i] != 0 and arr[i] < arr[i-1]:\n",
    "                arr_sorted = False\n",
    "            else:\n",
    "                arr_sorted = True\n",
    "            while arr_sorted == False:\n",
    "                if i != 0:\n",
    "                    if old < arr[i - 1]:\n",
    "                        arr[i] = arr[i - 1]\n",
    "                        arr[i - 1] = old\n",
    "                        i -= 1\n",
    "                    else:\n",
    "                        arr[i] = old\n",
    "                        arr_sorted = True\n",
    "                else:\n",
    "                    break\n",
    "            [print(int(arr[x]), end=\" \") for x in range(len(arr))]\n",
    "        else:\n",
    "            [print(int(arr[x]), end=\" \") for x in range(len(arr))]\n",
    "        print()\n",
    "\n",
    "if __name__ == '__main__':\n",
    "    n = int(input().strip())\n",
    "\n",
    "    arr = list(map(int, input().rstrip().split()))\n",
    "\n",
    "    insertionSort2(n, arr)"
   ]
  }
 ],
 "metadata": {
  "kernelspec": {
   "display_name": "Python 3 (ipykernel)",
   "language": "python",
   "name": "python3"
  },
  "language_info": {
   "codemirror_mode": {
    "name": "ipython",
    "version": 3
   },
   "file_extension": ".py",
   "mimetype": "text/x-python",
   "name": "python",
   "nbconvert_exporter": "python",
   "pygments_lexer": "ipython3",
   "version": "3.9.12"
  }
 },
 "nbformat": 4,
 "nbformat_minor": 5
}
